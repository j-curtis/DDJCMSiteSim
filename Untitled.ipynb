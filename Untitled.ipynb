{
 "cells": [
  {
   "cell_type": "code",
   "execution_count": 1,
   "metadata": {
    "collapsed": true
   },
   "outputs": [],
   "source": [
    "import JCSingleSite as JC\n",
    "from matplotlib import pyplot as plt"
   ]
  },
  {
   "cell_type": "code",
   "execution_count": 2,
   "metadata": {
    "collapsed": true
   },
   "outputs": [],
   "source": [
    "cutoff = 300\n",
    "hp_cutoff = 20\n",
    "\n",
    "detuning = 0\n",
    "drive = .4\n",
    "coupling = 1\n",
    "\n",
    "cav_decay = 1.0/float(cutoff)\n",
    "\n",
    "max_time = 40\n",
    "time_steps = 400\n"
   ]
  },
  {
   "cell_type": "code",
   "execution_count": 3,
   "metadata": {
    "collapsed": false
   },
   "outputs": [],
   "source": [
    "sim = JC.DDJCMSim(cutoff)"
   ]
  },
  {
   "cell_type": "code",
   "execution_count": 4,
   "metadata": {
    "collapsed": false
   },
   "outputs": [],
   "source": [
    "sim.detuning = detuning\n",
    "sim.drive = drive\n",
    "sim.coupling = coupling \n",
    "sim.decays[0] = cav_decay\n",
    "\n",
    "sim.maxTime = max_time\n",
    "sim.numTimeSteps = time_steps"
   ]
  },
  {
   "cell_type": "code",
   "execution_count": 5,
   "metadata": {
    "collapsed": true
   },
   "outputs": [],
   "source": [
    "sim.genHamiltonian()\n",
    "sim.genTimes()"
   ]
  },
  {
   "cell_type": "code",
   "execution_count": 6,
   "metadata": {
    "collapsed": false
   },
   "outputs": [],
   "source": []
  },
  {
   "cell_type": "code",
   "execution_count": null,
   "metadata": {
    "collapsed": true
   },
   "outputs": [],
   "source": [
    "sim.runSim()\n",
    "sim.holsteinPrimakoff(hp_cutoff)"
   ]
  },
  {
   "cell_type": "code",
   "execution_count": null,
   "metadata": {
    "collapsed": false
   },
   "outputs": [],
   "source": [
    "plt.plot(sim.times,JC.np.abs(rhoHP.expect[1])**2,label=r\"$|\\langle a\\rangle|^2$\")\n",
    "plt.plot(sim.times,rhoHP.expect[0],label=r\"$\\langle a^\\dagger a \\rangle$\")\n",
    "\n",
    "plt.label(\"Holstein Primakoff\")\n",
    "plt.xlabel(\"time\")\n",
    "plt.ylabel(\"Expectation Value\")\n",
    "\n",
    "plt.legend()\n",
    "\n",
    "plt.show()"
   ]
  },
  {
   "cell_type": "code",
   "execution_count": null,
   "metadata": {
    "collapsed": false
   },
   "outputs": [],
   "source": [
    "plt.plot(sim.times,JC.np.abs(sim.rho.expect[0])**2,label=r\"$|\\langle a\\rangle|^2$\")\n",
    "plt.plot(sim.times,sim.rho.expect[1],label=r\"$\\langle a^\\dagger a \\rangle$\")\n",
    "\n",
    "plt.label(\"DDJCM\")\n",
    "plt.xlabel(\"time\")\n",
    "plt.ylabel(\"Expectation Value\")\n",
    "\n",
    "plt.legend()\n",
    "\n",
    "plt.show()"
   ]
  },
  {
   "cell_type": "code",
   "execution_count": null,
   "metadata": {
    "collapsed": false
   },
   "outputs": [],
   "source": []
  },
  {
   "cell_type": "code",
   "execution_count": null,
   "metadata": {
    "collapsed": true
   },
   "outputs": [],
   "source": []
  }
 ],
 "metadata": {
  "kernelspec": {
   "display_name": "Python 3",
   "language": "python",
   "name": "python3"
  },
  "language_info": {
   "codemirror_mode": {
    "name": "ipython",
    "version": 3
   },
   "file_extension": ".py",
   "mimetype": "text/x-python",
   "name": "python",
   "nbconvert_exporter": "python",
   "pygments_lexer": "ipython3",
   "version": "3.6.0"
  }
 },
 "nbformat": 4,
 "nbformat_minor": 2
}
