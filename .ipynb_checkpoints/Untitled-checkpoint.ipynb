{
 "cells": [
  {
   "cell_type": "code",
   "execution_count": 1,
   "metadata": {
    "collapsed": true
   },
   "outputs": [],
   "source": [
    "import JCSingleSite as JC\n",
    "from matplotlib import pyplot as plt"
   ]
  },
  {
   "cell_type": "code",
   "execution_count": 35,
   "metadata": {
    "collapsed": true
   },
   "outputs": [],
   "source": [
    "cutoff = 500\n",
    "\n",
    "detuning = 0\n",
    "drive = 1\n",
    "\n",
    "drive2 = .25\n",
    "\n",
    "coupling = 1\n",
    "\n",
    "cav_decay = 1.0/float(cutoff)\n",
    "\n",
    "max_time = 40\n",
    "time_steps = 400\n"
   ]
  },
  {
   "cell_type": "code",
   "execution_count": 27,
   "metadata": {
    "collapsed": false
   },
   "outputs": [],
   "source": [
    "sim = JC.DDJCMSim(cutoff)"
   ]
  },
  {
   "cell_type": "code",
   "execution_count": 37,
   "metadata": {
    "collapsed": false
   },
   "outputs": [],
   "source": [
    "sim2 = JC.DDJCMSim(cutoff)"
   ]
  },
  {
   "cell_type": "code",
   "execution_count": 39,
   "metadata": {
    "collapsed": true
   },
   "outputs": [],
   "source": [
    "sim.detuning = detuning\n",
    "sim.drive = drive\n",
    "sim.coupling = coupling \n",
    "sim.decays[0] = cav_decay\n",
    "\n",
    "sim.maxTime = max_time\n",
    "sim.numTimeSteps = time_steps\n",
    "\n",
    "sim2.detuning = detuning\n",
    "sim2.drive = drive2\n",
    "sim2.coupling = coupling \n",
    "sim2.decays[0] = cav_decay\n",
    "\n",
    "sim2.maxTime = max_time\n",
    "sim2.numTimeSteps = time_steps\n"
   ]
  },
  {
   "cell_type": "code",
   "execution_count": 38,
   "metadata": {
    "collapsed": false
   },
   "outputs": [],
   "source": [
    "sim.genHamiltonian()\n",
    "sim.genTimes()\n",
    "sim2.genHamiltonian()\n",
    "sim2.genTimes()"
   ]
  },
  {
   "cell_type": "code",
   "execution_count": 30,
   "metadata": {
    "collapsed": true
   },
   "outputs": [],
   "source": [
    "sim.runSim()"
   ]
  },
  {
   "cell_type": "code",
   "execution_count": null,
   "metadata": {
    "collapsed": true
   },
   "outputs": [],
   "source": []
  },
  {
   "cell_type": "code",
   "execution_count": 34,
   "metadata": {
    "collapsed": false
   },
   "outputs": [
    {
     "data": {
      "image/png": "[encoded data removed]",
      "text/plain": [
       "<matplotlib.figure.Figure at 0x112b2acc0>"
      ]
     },
     "metadata": {},
     "output_type": "display_data"
    }
   ],
   "source": [
    "plt.plot(sim.times,JC.np.abs(sim.rho.expect[0])**2,label=r\"$|\\langle a\\rangle|^2$\")\n",
    "plt.plot(sim.times,sim.rho.expect[1],label=r\"$\\langle a^\\dagger a \\rangle$\")\n",
    "plt.plot(sim.times,sim.rho.expect[1] - JC.np.abs(sim.rho.expect[0])**2,label=\"Connected Correlator\" )\n",
    "\n",
    "\n",
    "plt.xlabel(\"time\")\n",
    "plt.ylabel(\"Expectation Value\")\n",
    "\n",
    "plt.legend()\n",
    "\n",
    "plt.show()"
   ]
  },
  {
   "cell_type": "code",
   "execution_count": null,
   "metadata": {
    "collapsed": true
   },
   "outputs": [],
   "source": []
  }
 ],
 "metadata": {
  "kernelspec": {
   "display_name": "Python 3",
   "language": "python",
   "name": "python3"
  },
  "language_info": {
   "codemirror_mode": {
    "name": "ipython",
    "version": 3
   },
   "file_extension": ".py",
   "mimetype": "text/x-python",
   "name": "python",
   "nbconvert_exporter": "python",
   "pygments_lexer": "ipython3",
   "version": "3.6.0"
  }
 },
 "nbformat": 4,
 "nbformat_minor": 2
}
