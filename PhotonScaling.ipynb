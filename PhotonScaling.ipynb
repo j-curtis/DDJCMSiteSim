{
 "cells": [
  {
   "cell_type": "code",
   "execution_count": 3,
   "metadata": {
    "collapsed": true,
    "deletable": true,
    "editable": true
   },
   "outputs": [],
   "source": [
    "import numpy as np\n",
    "from matplotlib import pyplot as plt\n",
    "import SteadyState as ss"
   ]
  },
  {
   "cell_type": "code",
   "execution_count": 4,
   "metadata": {
    "collapsed": false,
    "deletable": true,
    "editable": true
   },
   "outputs": [],
   "source": [
    "def cavNum(size,drive,decay):\n",
    "    return ss.rhoSS(size,drive,decay).cavNum"
   ]
  },
  {
   "cell_type": "code",
   "execution_count": null,
   "metadata": {
    "collapsed": true,
    "deletable": true,
    "editable": true
   },
   "outputs": [],
   "source": [
    "sizes = [100,200,400]\n",
    "drives = [0.4,.42,.44,.46,.48,0.5]\n",
    "decays = [1.0,.1,.01,.001]"
   ]
  },
  {
   "cell_type": "code",
   "execution_count": null,
   "metadata": {
    "collapsed": false,
    "deletable": true,
    "editable": true
   },
   "outputs": [],
   "source": [
    "nums = np.array([[[cavNum(s,d,k) for s in sizes] for k in decays] for d in drives ])\n",
    "#Index array as nums[d,k,s] where k is the decay rate, d is the drive strength, and s is the system size"
   ]
  },
  {
   "cell_type": "code",
   "execution_count": null,
   "metadata": {
    "collapsed": false,
    "deletable": true,
    "editable": true
   },
   "outputs": [],
   "source": [
    "plt.plot( drives, nums[:,0,0],label=r\"$\\kappa/g = 1.0, N = 100$\")\n",
    "plt.plot( drives, nums[:,0,1],label=r\"$\\kappa/g = 1.0, N = 200$\")\n",
    "plt.plot( drives, nums[:,0,2],label=r\"$\\kappa/g = 1.0, N = 400$\")\n",
    "\n",
    "plt.xlabel(r\"$E/g$\")\n",
    "plt.ylabel(r\"$\\langle a^\\dagger a \\rangle_{ss}$\")\n",
    "plt.title(r\"Photon number scaling vs. control parameter for different system sizes\")\n",
    "plt.legend()\n",
    "\n",
    "plt.show()"
   ]
  },
  {
   "cell_type": "code",
   "execution_count": null,
   "metadata": {
    "collapsed": true,
    "deletable": true,
    "editable": true
   },
   "outputs": [],
   "source": [
    "plt.plot( drives, nums[:,1,0],label=r\"$\\kappa/g = 0.1, N = 100$\")\n",
    "plt.plot( drives, nums[:,1,1],label=r\"$\\kappa/g = 0.1, N = 200$\")\n",
    "plt.plot( drives, nums[:,1,2],label=r\"$\\kappa/g = 0.1, N = 400$\")\n",
    "\n",
    "plt.xlabel(r\"$E/g$\")\n",
    "plt.ylabel(r\"$\\langle a^\\dagger a \\rangle_{ss}$\")\n",
    "plt.title(r\"Photon number scaling vs. control parameter for different system sizes\")\n",
    "plt.legend()\n",
    "\n",
    "plt.show()"
   ]
  },
  {
   "cell_type": "code",
   "execution_count": null,
   "metadata": {
    "collapsed": true
   },
   "outputs": [],
   "source": [
    "plt.plot( drives, nums[:,3,0],label=r\"$\\kappa/g = 0.001, N = 100$\")\n",
    "plt.plot( drives, nums[:,3,1],label=r\"$\\kappa/g = 0.001, N = 200$\")\n",
    "plt.plot( drives, nums[:,3,2],label=r\"$\\kappa/g = 0.001, N = 400$\")\n",
    "\n",
    "plt.xlabel(r\"$E/g$\")\n",
    "plt.ylabel(r\"$\\langle a^\\dagger a \\rangle_{ss}$\")\n",
    "plt.title(r\"Photon number scaling vs. control parameter for different system sizes\")\n",
    "plt.legend()\n",
    "\n",
    "plt.show()"
   ]
  },
  {
   "cell_type": "code",
   "execution_count": null,
   "metadata": {
    "collapsed": true
   },
   "outputs": [],
   "source": [
    "plt.plot( drives, nums[:,0,2],label=r\"$\\kappa/g = 1.0, N = 400$\")\n",
    "plt.plot( drives, nums[:,1,2],label=r\"$\\kappa/g = 0.1, N = 400$\")\n",
    "plt.plot( drives, nums[:,2,2],label=r\"$\\kappa/g = 0.01, N = 400$\")\n",
    "plt.plot( drives, nums[:,3,2],label=r\"$\\kappa/g = 0.001, N = 400$\")\n",
    "\n",
    "\n",
    "plt.xlabel(r\"$E/g$\")\n",
    "plt.ylabel(r\"$\\langle a^\\dagger a \\rangle_{ss}$\")\n",
    "plt.title(r\"Photon number scaling vs. control parameter for different decay rates\")\n",
    "plt.legend()\n",
    "\n",
    "plt.show()"
   ]
  },
  {
   "cell_type": "code",
   "execution_count": null,
   "metadata": {
    "collapsed": true
   },
   "outputs": [],
   "source": []
  }
 ],
 "metadata": {
  "kernelspec": {
   "display_name": "Python 3",
   "language": "python",
   "name": "python3"
  },
  "language_info": {
   "codemirror_mode": {
    "name": "ipython",
    "version": 3
   },
   "file_extension": ".py",
   "mimetype": "text/x-python",
   "name": "python",
   "nbconvert_exporter": "python",
   "pygments_lexer": "ipython3",
   "version": "3.6.0"
  }
 },
 "nbformat": 4,
 "nbformat_minor": 2
}
